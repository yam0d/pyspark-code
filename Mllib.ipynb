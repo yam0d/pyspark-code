{
 "cells": [
  {
   "cell_type": "markdown",
   "id": "c5d12372",
   "metadata": {},
   "source": [
    "# Simple regression"
   ]
  },
  {
   "cell_type": "code",
   "execution_count": null,
   "id": "7deee31d",
   "metadata": {},
   "outputs": [],
   "source": [
    "from pyspark.sql import SparkSession\n",
    "spark = SparkSession.builder.appName('mllib').getOrCreate()"
   ]
  },
  {
   "cell_type": "code",
   "execution_count": null,
   "id": "a7181ec4",
   "metadata": {},
   "outputs": [],
   "source": [
    "spark"
   ]
  },
  {
   "cell_type": "code",
   "execution_count": 6,
   "id": "f2241d48",
   "metadata": {},
   "outputs": [],
   "source": [
    "## read dataset\n",
    "train = spark.read.csv('mllib_test.csv', header = True, inferSchema = True, sep = ';')"
   ]
  },
  {
   "cell_type": "code",
   "execution_count": 7,
   "id": "a34c60f8",
   "metadata": {},
   "outputs": [
    {
     "name": "stdout",
     "output_type": "stream",
     "text": [
      "+-----+---+---+------+\n",
      "| Name|Age|Exp|Salary|\n",
      "+-----+---+---+------+\n",
      "|hinat| 31| 10| 30000|\n",
      "| suki| 30|  8| 25000|\n",
      "| momo| 29|  4| 20000|\n",
      "|  zum| 24|  3| 20000|\n",
      "| maki| 21|  1| 15000|\n",
      "|  avo| 23|  2| 18000|\n",
      "+-----+---+---+------+\n",
      "\n"
     ]
    }
   ],
   "source": [
    "train.show()"
   ]
  },
  {
   "cell_type": "code",
   "execution_count": 8,
   "id": "6ce1b9fe",
   "metadata": {},
   "outputs": [
    {
     "name": "stdout",
     "output_type": "stream",
     "text": [
      "root\n",
      " |-- Name: string (nullable = true)\n",
      " |-- Age: integer (nullable = true)\n",
      " |-- Exp: integer (nullable = true)\n",
      " |-- Salary: integer (nullable = true)\n",
      "\n"
     ]
    }
   ],
   "source": [
    "train.printSchema()"
   ]
  },
  {
   "cell_type": "code",
   "execution_count": 9,
   "id": "a81edb5c",
   "metadata": {},
   "outputs": [
    {
     "data": {
      "text/plain": [
       "['Name', 'Age', 'Exp', 'Salary']"
      ]
     },
     "execution_count": 9,
     "metadata": {},
     "output_type": "execute_result"
    }
   ],
   "source": [
    "train.columns"
   ]
  },
  {
   "cell_type": "code",
   "execution_count": 10,
   "id": "4c6bab6e",
   "metadata": {},
   "outputs": [],
   "source": [
    "from pyspark.ml.feature import VectorAssembler\n",
    "featureassembler = VectorAssembler(inputCols=['Age', 'Exp'], outputCol = 'Independent features')"
   ]
  },
  {
   "cell_type": "code",
   "execution_count": 12,
   "id": "f88b5fcc",
   "metadata": {},
   "outputs": [],
   "source": [
    "output = featureassembler.transform(train)"
   ]
  },
  {
   "cell_type": "code",
   "execution_count": 13,
   "id": "6816b9c6",
   "metadata": {},
   "outputs": [
    {
     "name": "stdout",
     "output_type": "stream",
     "text": [
      "+-----+---+---+------+--------------------+\n",
      "| Name|Age|Exp|Salary|Independent features|\n",
      "+-----+---+---+------+--------------------+\n",
      "|hinat| 31| 10| 30000|         [31.0,10.0]|\n",
      "| suki| 30|  8| 25000|          [30.0,8.0]|\n",
      "| momo| 29|  4| 20000|          [29.0,4.0]|\n",
      "|  zum| 24|  3| 20000|          [24.0,3.0]|\n",
      "| maki| 21|  1| 15000|          [21.0,1.0]|\n",
      "|  avo| 23|  2| 18000|          [23.0,2.0]|\n",
      "+-----+---+---+------+--------------------+\n",
      "\n"
     ]
    }
   ],
   "source": [
    "output.show()"
   ]
  },
  {
   "cell_type": "code",
   "execution_count": 14,
   "id": "5c3def20",
   "metadata": {},
   "outputs": [
    {
     "data": {
      "text/plain": [
       "['Name', 'Age', 'Exp', 'Salary', 'Independent features']"
      ]
     },
     "execution_count": 14,
     "metadata": {},
     "output_type": "execute_result"
    }
   ],
   "source": [
    "output.columns"
   ]
  },
  {
   "cell_type": "code",
   "execution_count": 15,
   "id": "985d9676",
   "metadata": {},
   "outputs": [],
   "source": [
    "finalized_data = output.select('Independent features', 'Salary')"
   ]
  },
  {
   "cell_type": "code",
   "execution_count": 16,
   "id": "4177b863",
   "metadata": {},
   "outputs": [
    {
     "name": "stdout",
     "output_type": "stream",
     "text": [
      "+--------------------+------+\n",
      "|Independent features|Salary|\n",
      "+--------------------+------+\n",
      "|         [31.0,10.0]| 30000|\n",
      "|          [30.0,8.0]| 25000|\n",
      "|          [29.0,4.0]| 20000|\n",
      "|          [24.0,3.0]| 20000|\n",
      "|          [21.0,1.0]| 15000|\n",
      "|          [23.0,2.0]| 18000|\n",
      "+--------------------+------+\n",
      "\n"
     ]
    }
   ],
   "source": [
    "finalized_data.show()"
   ]
  },
  {
   "cell_type": "code",
   "execution_count": 26,
   "id": "24076be5",
   "metadata": {},
   "outputs": [],
   "source": [
    "from pyspark.ml.regression import LinearRegression\n",
    "train_data, test_data = finalized_data.randomSplit([0.75,0.25])\n",
    "regressor = LinearRegression(featuresCol = 'Independent features', labelCol = 'Salary')\n",
    "regressor = regressor.fit(train_data)"
   ]
  },
  {
   "cell_type": "code",
   "execution_count": 27,
   "id": "8c16a9b5",
   "metadata": {},
   "outputs": [
    {
     "data": {
      "text/plain": [
       "DenseVector([2666.6667, -2000.0])"
      ]
     },
     "execution_count": 27,
     "metadata": {},
     "output_type": "execute_result"
    }
   ],
   "source": [
    "### coef\n",
    "regressor.coefficients"
   ]
  },
  {
   "cell_type": "code",
   "execution_count": 28,
   "id": "ac3efbde",
   "metadata": {},
   "outputs": [
    {
     "data": {
      "text/plain": [
       "-38833.33333337073"
      ]
     },
     "execution_count": 28,
     "metadata": {},
     "output_type": "execute_result"
    }
   ],
   "source": [
    "### intercepts\n",
    "regressor.intercept"
   ]
  },
  {
   "cell_type": "code",
   "execution_count": 29,
   "id": "95d7d70f",
   "metadata": {},
   "outputs": [],
   "source": [
    "### prediction\n",
    "pred_results = regressor.evaluate(test_data)"
   ]
  },
  {
   "cell_type": "code",
   "execution_count": 30,
   "id": "fd34238c",
   "metadata": {},
   "outputs": [
    {
     "name": "stdout",
     "output_type": "stream",
     "text": [
      "+--------------------+------+------------------+\n",
      "|Independent features|Salary|        prediction|\n",
      "+--------------------+------+------------------+\n",
      "|          [29.0,4.0]| 20000| 30500.00000000719|\n",
      "|         [31.0,10.0]| 30000|23833.333333330404|\n",
      "+--------------------+------+------------------+\n",
      "\n"
     ]
    }
   ],
   "source": [
    "pred_results.predictions.show()"
   ]
  },
  {
   "cell_type": "code",
   "execution_count": 31,
   "id": "b4ec57ae",
   "metadata": {},
   "outputs": [
    {
     "data": {
      "text/plain": [
       "(8333.333333338393, 74138888.88898243)"
      ]
     },
     "execution_count": 31,
     "metadata": {},
     "output_type": "execute_result"
    }
   ],
   "source": [
    "pred_results.meanAbsoluteError, pred_results.meanSquaredError"
   ]
  },
  {
   "cell_type": "code",
   "execution_count": null,
   "id": "07e1a147",
   "metadata": {},
   "outputs": [],
   "source": [
    "# from pyspark.ml.feature import StringIndexer"
   ]
  },
  {
   "cell_type": "code",
   "execution_count": 32,
   "id": "8d50801a",
   "metadata": {},
   "outputs": [
    {
     "data": {
      "text/plain": [
       "<bound method SparkSession.stop of <pyspark.sql.session.SparkSession object at 0x000001D44FD84FD0>>"
      ]
     },
     "execution_count": 32,
     "metadata": {},
     "output_type": "execute_result"
    }
   ],
   "source": [
    "spark.stop"
   ]
  }
 ],
 "metadata": {
  "kernelspec": {
   "display_name": "Python 3 (ipykernel)",
   "language": "python",
   "name": "python3"
  },
  "language_info": {
   "codemirror_mode": {
    "name": "ipython",
    "version": 3
   },
   "file_extension": ".py",
   "mimetype": "text/x-python",
   "name": "python",
   "nbconvert_exporter": "python",
   "pygments_lexer": "ipython3",
   "version": "3.10.7"
  }
 },
 "nbformat": 4,
 "nbformat_minor": 5
}
